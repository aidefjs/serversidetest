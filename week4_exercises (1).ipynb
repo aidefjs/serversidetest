{
 "cells": [
  {
   "cell_type": "markdown",
   "metadata": {},
   "source": [
    "# WEEK 4 Exercises - Making Queries\n",
    "\n",
    "![ERD-E-COMMERCE](https://github.com/it-web-pro/django-week4/blob/main/images/WEEK3-ERD(e-commerce).png?raw=true)"
   ]
  },
  {
   "cell_type": "markdown",
   "metadata": {},
   "source": [
    "## Instruction\n",
    "\n",
    "1. สร้าง `virtual environment`\n",
    "2. ติดตั้ง `django` และ `psycopg2` libraries\n",
    "3. สร้างโปรเจคใหม่ใหม่ชื่อ`myshop`\n",
    "4. จากนั้นให้ทำการ startapp ใหม่ชื่อ `shop`\n",
    "5. สร้าง database ชื่อ `shop` ใน Postgres DB\n",
    "6. ทำการเพิ่ม code ด้านล่างนี้ในไฟล์ `shop/models.py`\n",
    "7. เพิ่ม **'shop'** ใน `settings.py`\n",
    "8. ทำการ `makemigrations` และ `migrate`\n",
    "\n",
    "```python\n",
    "from django.db import models\n",
    "\n",
    "# Create your models here.\n",
    "\n",
    "\n",
    "class Customer(models.Model):\n",
    "    first_name = models.CharField(max_length=150)\n",
    "    last_name = models.CharField(max_length=200)\n",
    "    email = models.CharField(max_length=150)\n",
    "    address = models.JSONField(null=True)\n",
    "\n",
    "class ProductCategory(models.Model):\n",
    "    name = models.CharField(max_length=150)\n",
    "\n",
    "class Product(models.Model):\n",
    "    name = models.CharField(max_length=150)\n",
    "    description = models.TextField(null=True, blank=True)\n",
    "    remaining_amount = models.PositiveIntegerField(default=0)\n",
    "    price = models.DecimalField(max_digits=10, decimal_places=2)\n",
    "    categories = models.ManyToManyField(ProductCategory)\n",
    "\n",
    "class Cart(models.Model):\n",
    "    customer = models.ForeignKey(Customer, on_delete=models.CASCADE)\n",
    "    create_date = models.DateTimeField()\n",
    "    expired_in = models.PositiveIntegerField(default=60)\n",
    "    \n",
    "class CartItem(models.Model):\n",
    "    cart = models.ForeignKey(Cart, on_delete=models.CASCADE)\n",
    "    product = models.ForeignKey(Product, on_delete=models.CASCADE)\n",
    "    amount = models.PositiveIntegerField(default=1)\n",
    "    \n",
    "class Order(models.Model):\n",
    "    customer = models.ForeignKey(Customer, on_delete=models.CASCADE)\n",
    "    order_date = models.DateField()\n",
    "    remark = models.TextField(null=True, blank=True)\n",
    "\n",
    "class OrderItem(models.Model):\n",
    "    order = models.ForeignKey(Order, on_delete=models.CASCADE)\n",
    "    product = models.ForeignKey(Product, on_delete=models.CASCADE)\n",
    "    amount = models.PositiveIntegerField(default=1)\n",
    "    \n",
    "class Payment(models.Model):\n",
    "    order = models.OneToOneField(Order, on_delete=models.PROTECT)\n",
    "    payment_date = models.DateField()\n",
    "    remark = models.TextField(null=True, blank=True)\n",
    "    price = models.DecimalField(max_digits=10, decimal_places=2)\n",
    "    discount = models.DecimalField(max_digits=10, decimal_places=2, default=0)\n",
    "\n",
    "class PaymentItem(models.Model):\n",
    "    payment = models.ForeignKey(Payment, on_delete=models.CASCADE)\n",
    "    order_item = models.OneToOneField(OrderItem, on_delete=models.CASCADE)\n",
    "    price = models.DecimalField(max_digits=10, decimal_places=2)\n",
    "    discount = models.DecimalField(max_digits=10, decimal_places=2, default=0)\n",
    "    \n",
    "class PaymentMethod(models.Model):\n",
    "    class MethodChoices(models.Choices):\n",
    "        QR = \"QR\"\n",
    "        CREDIT = \"CREDIT\"\n",
    "    \n",
    "    payment = models.ForeignKey(Payment, on_delete=models.CASCADE)\n",
    "    method = models.CharField(max_length=15, choices=MethodChoices.choices)\n",
    "    price = models.DecimalField(max_digits=10, decimal_places=2)\n",
    "```"
   ]
  },
  {
   "cell_type": "markdown",
   "metadata": {},
   "source": [
    "**จากนั้นให้ทำการ migrate และ run คำสั่งในไฟล์ `shop.sql` ใน PgAdmin4**"
   ]
  },
  {
   "cell_type": "code",
   "execution_count": 1,
   "metadata": {},
   "outputs": [],
   "source": [
    "import os\n",
    "os.environ[\"DJANGO_ALLOW_ASYNC_UNSAFE\"] = \"true\""
   ]
  },
  {
   "cell_type": "markdown",
   "metadata": {},
   "source": [
    "### 1. ให้นักศึกษา Query ค้นหาข้อมูลมาแสดงให้ถูกต้องตามโจทย์\n",
    "\n",
    "1.1 query หาข้อมูล `Order` ทั้งหมดที่เกิดขึ้นในเดือน `พฤษภาคม` มาแสดงผล 10 รายการแรก และแสดงผลดังตัวอย่าง (0.5 คะแนน)\n",
    "\n",
    "```txt\n",
    "ORDER ID:22, DATE: 2024-05-01, PRICE: 4890.00\n",
    "ORDER ID:23, DATE: 2024-05-01, PRICE: 2540.00\n",
    "ORDER ID:24, DATE: 2024-05-01, PRICE: 1720.00\n",
    "ORDER ID:25, DATE: 2024-05-02, PRICE: 322499.00\n",
    "ORDER ID:26, DATE: 2024-05-02, PRICE: 3399.00\n",
    "ORDER ID:27, DATE: 2024-05-02, PRICE: 1190.00\n",
    "ORDER ID:28, DATE: 2024-05-03, PRICE: 9499.00\n",
    "ORDER ID:29, DATE: 2024-05-03, PRICE: 700.00\n",
    "ORDER ID:30, DATE: 2024-05-03, PRICE: 1690.00\n",
    "ORDER ID:31, DATE: 2024-05-04, PRICE: 3280.00\n",
    "```"
   ]
  },
  {
   "cell_type": "code",
   "execution_count": 23,
   "metadata": {},
   "outputs": [
    {
     "name": "stdout",
     "output_type": "stream",
     "text": [
      "ORDER ID: 23, Date: 2024-05-01 PRICE: 4890.00\n",
      "ORDER ID: 8, Date: 2024-05-01 PRICE: 2540.00\n",
      "ORDER ID: 24, Date: 2024-05-01 PRICE: 1720.00\n",
      "ORDER ID: 20, Date: 2024-05-02 PRICE: 322499.00\n",
      "ORDER ID: 7, Date: 2024-05-02 PRICE: 3399.00\n",
      "ORDER ID: 25, Date: 2024-05-02 PRICE: 1190.00\n",
      "ORDER ID: 4, Date: 2024-05-03 PRICE: 9499.00\n",
      "ORDER ID: 3, Date: 2024-05-03 PRICE: 700.00\n",
      "ORDER ID: 30, Date: 2024-05-03 PRICE: 1690.00\n",
      "ORDER ID: 17, Date: 2024-05-04 PRICE: 3280.00\n"
     ]
    }
   ],
   "source": [
    "from shop.models import *\n",
    "order_in_may = Order.objects.filter(order_date__month=5)[:10]\n",
    "for i in order_in_may:\n",
    "    print(f\"ORDER ID: {i.customer_id}, Date: {i.order_date} PRICE: {i.payment.price}\")"
   ]
  },
  {
   "cell_type": "markdown",
   "metadata": {},
   "source": [
    "1.2 query หาข้อมูล `Product` ที่มีคำลงท้ายว่า `features.` ในรายละเอียดสินค้า และแสดงผลดังตัวอย่าง (0.5 คะแนน)\n",
    "\n",
    "```txt\n",
    "PRODUCT ID: 1, DESCRIPTION: A sleek and powerful smartphone with advanced features.\n",
    "PRODUCT ID: 7, DESCRIPTION: High-resolution digital camera with advanced photography features.\n",
    "PRODUCT ID: 10, DESCRIPTION: A stylish smartwatch with health monitoring and notification features.\n",
    "PRODUCT ID: 14, DESCRIPTION: Split air conditioner with remote control and energy-saving features.\n",
    "PRODUCT ID: 45, DESCRIPTION: Customizable racing track set with loop and jump features.\n",
    "```"
   ]
  },
  {
   "cell_type": "code",
   "execution_count": 25,
   "metadata": {},
   "outputs": [
    {
     "name": "stdout",
     "output_type": "stream",
     "text": [
      "PRODUCT ID:1, DESCRIPTION: A sleek and powerful smartphone with advanced features.\n",
      "PRODUCT ID:7, DESCRIPTION: High-resolution digital camera with advanced photography features.\n",
      "PRODUCT ID:10, DESCRIPTION: A stylish smartwatch with health monitoring and notification features.\n",
      "PRODUCT ID:14, DESCRIPTION: Split air conditioner with remote control and energy-saving features.\n",
      "PRODUCT ID:45, DESCRIPTION: Customizable racing track set with loop and jump features.\n"
     ]
    }
   ],
   "source": [
    "last_feature = Product.objects.filter(description__endswith='features.')\n",
    "for descrip in last_feature:\n",
    "    print(f'PRODUCT ID:{descrip.id}, DESCRIPTION: {descrip.description}')"
   ]
  },
  {
   "cell_type": "markdown",
   "metadata": {},
   "source": [
    "1.3 query หาข้อมูล `Product` ที่มีราคาสินค้าตั้งแต่ `5000.00` ขึ้นไป และอยู่ในหมวดหมู่ `Information Technology` และแสดงผลดังตัวอย่าง (0.5 คะแนน)\n",
    "\n",
    "```txt\n",
    " # ตัวอย่างบางส่วน \n",
    "PRODUCT ID: 1, NAME: Smartphone, PRICE: 5900.00\n",
    "```"
   ]
  },
  {
   "cell_type": "code",
   "execution_count": 31,
   "metadata": {
    "scrolled": true
   },
   "outputs": [
    {
     "name": "stdout",
     "output_type": "stream",
     "text": [
      "PRODUCT ID: 1, NAME: Smartphone, PRICE: 5900.00\n",
      "PRODUCT ID: 2, NAME: Laptop, PRICE: 25999.00\n",
      "PRODUCT ID: 3, NAME: Smart TV, PRICE: 8900.00\n",
      "PRODUCT ID: 5, NAME: Tablet, PRICE: 12900.00\n",
      "PRODUCT ID: 7, NAME: Digital Camera, PRICE: 32000.00\n"
     ]
    }
   ],
   "source": [
    "pro5 = Product.objects.filter(price__gt = 5000,categories__name = 'Information Technology')\n",
    "\n",
    "for pp in pro5:\n",
    "    print(f'PRODUCT ID: {pp.id}, NAME: {pp.name}, PRICE: {pp.price}')"
   ]
  },
  {
   "cell_type": "markdown",
   "metadata": {},
   "source": [
    "1.4 query หาข้อมูล `Product` ที่มีราคาสินค้าน้อยกว่า `200.00` และมากกว่า `100.00` และแสดงผลดังตัวอย่าง (0.5 คะแนน)\n",
    "\n",
    "```txt\n",
    "PRODUCT ID: 28, NAME: Women's Sweater, PRICE: 190.00\n",
    "PRODUCT ID: 66, NAME: Salvage the Bones, PRICE: 129.00\n",
    "```"
   ]
  },
  {
   "cell_type": "code",
   "execution_count": 33,
   "metadata": {},
   "outputs": [
    {
     "name": "stdout",
     "output_type": "stream",
     "text": [
      "PRODUCT ID: 28, NAME:Women's Sweater, PRICE:190.00\n",
      "PRODUCT ID: 66, NAME:Salvage the Bones, PRICE:129.00\n"
     ]
    }
   ],
   "source": [
    "probetween = Product.objects.filter(price__gt = 100, price__lt = 200)\n",
    "\n",
    "for beetween in probetween:\n",
    "    print(f'PRODUCT ID: {beetween.id}, NAME:{beetween.name}, PRICE:{beetween.price}')"
   ]
  },
  {
   "cell_type": "markdown",
   "metadata": {},
   "source": [
    "### 2. เพิ่ม ลบ แก้ไข สินค้า"
   ]
  },
  {
   "cell_type": "markdown",
   "metadata": {},
   "source": [
    "2.1 ให้เพิ่มสินค้าใหม่จำนวน 3 รายการ (0.5 คะแนน)\n",
    "\n",
    "```txt\n",
    "สินค้าที่ 1\n",
    "ชื่อ: Philosopher's Stone (1997)\n",
    "หมวดหมู่สินค้า: Books and Media\n",
    "จำนวนคงเหลือ: 20\n",
    "รายละเอียดซ: By J. K. Rowling.\n",
    "ราคา: 790\n",
    "\n",
    "สินค้าที่ 2\n",
    "ชื่อ: Me Before You\n",
    "หมวดหมู่สินค้า: Books and Media\n",
    "จำนวนคงเหลือ: 40\n",
    "รายละเอียดซ: A romance novel written by Jojo\n",
    "ราคา: 390\n",
    "\n",
    "สินค้าที่ 3\n",
    "ชื่อ: Notebook HP Pavilion Silver\n",
    "หมวดหมู่สินค้า: Information Technology และ Electronics\n",
    "จำนวนคงเหลือ: 10\n",
    "รายละเอียดซ: Display Screen. 16.0\n",
    "ราคา: 20000\n",
    "```"
   ]
  },
  {
   "cell_type": "code",
   "execution_count": 38,
   "metadata": {},
   "outputs": [],
   "source": [
    "catago1 = ProductCategory.objects.get(name='Books and Media')\n",
    "product1 = Product(name=\"Philosopher's Stone (1997)\",remaining_amount=20,price=790,description=\"By J. K. Rowling.\")\n",
    "product1.save()\n",
    "product1.categories.add(catago1)"
   ]
  },
  {
   "cell_type": "code",
   "execution_count": 63,
   "metadata": {},
   "outputs": [
    {
     "name": "stdout",
     "output_type": "stream",
     "text": [
      "Name: Philosopher's Stone (1997), Catergory :Books and Media\n"
     ]
    }
   ],
   "source": [
    "pro1 = Product.objects.filter(name=\"Philosopher's Stone (1997)\").values('name','categories__name')\n",
    "for i in pro1:\n",
    "    print(f\"Name: {i['name']}, Catergory :{i['categories__name']}\")"
   ]
  },
  {
   "cell_type": "code",
   "execution_count": 64,
   "metadata": {},
   "outputs": [],
   "source": [
    "product2 = Product(name=\"Me Before You\",remaining_amount=40,price=390,description=\"A romance novel written by Jojo\")\n",
    "product2.save()\n",
    "product2.categories.add(catago1)"
   ]
  },
  {
   "cell_type": "code",
   "execution_count": 69,
   "metadata": {},
   "outputs": [
    {
     "name": "stdout",
     "output_type": "stream",
     "text": [
      "Name: Philosopher's Stone (1997), Catergory :Books and Media\n"
     ]
    }
   ],
   "source": [
    "pro2 = Product.objects.filter(name=\"Me Before You\").values('name','categories__name')\n",
    "for j in pro2:\n",
    "    print(f\"Name: {i['name']}, Catergory :{i['categories__name']}\")"
   ]
  },
  {
   "cell_type": "code",
   "execution_count": 70,
   "metadata": {},
   "outputs": [
    {
     "name": "stdout",
     "output_type": "stream",
     "text": [
      "Name: Me Before You, Catergory :Books and Media\n"
     ]
    }
   ],
   "source": [
    "pro2 = Product.objects.filter(name=\"Me Before You\").values('name','categories__name')\n",
    "for j in pro2:\n",
    "    print(f\"Name: {j['name']}, Catergory :{j['categories__name']}\")"
   ]
  },
  {
   "cell_type": "code",
   "execution_count": 71,
   "metadata": {},
   "outputs": [],
   "source": [
    "catago2 = ProductCategory.objects.get(name='Information Technology')\n",
    "catago3 = ProductCategory.objects.get(name='Electronics')\n",
    "product3 = Product(name=\"Notebook HP Pavilion Silver\",remaining_amount=10,price=20000,description=\"Display Screen. 16.0\")\n",
    "product3.save()\n",
    "product3.categories.add(catago2,catago3)"
   ]
  },
  {
   "cell_type": "code",
   "execution_count": 72,
   "metadata": {},
   "outputs": [
    {
     "name": "stdout",
     "output_type": "stream",
     "text": [
      "Name: Notebook HP Pavilion Silver, Catergory :Information Technology\n",
      "Name: Notebook HP Pavilion Silver, Catergory :Electronics\n"
     ]
    }
   ],
   "source": [
    "pro3 = Product.objects.filter(name=\"Notebook HP Pavilion Silver\").values('name','categories__name')\n",
    "for c in pro3:\n",
    "    print(f\"Name: {c['name']}, Catergory :{c['categories__name']}\")"
   ]
  },
  {
   "cell_type": "markdown",
   "metadata": {},
   "source": [
    "2.2 แก้ไขชื่อสินค้า จาก `Philosopher's Stone (1997)` เป็น `Half-Blood Prince (2005)` (0.5 คะแนน)"
   ]
  },
  {
   "cell_type": "code",
   "execution_count": 73,
   "metadata": {},
   "outputs": [],
   "source": [
    "product1.name = \"Half-Blood Prince (2005)\""
   ]
  },
  {
   "cell_type": "code",
   "execution_count": 74,
   "metadata": {},
   "outputs": [],
   "source": [
    "product1.save()"
   ]
  },
  {
   "cell_type": "markdown",
   "metadata": {},
   "source": [
    "2.3 แก้ไขชื่อหมวดหมู่สินค้า จาก `Books and Media` เป็น `Books` (0.5 คะแนน)"
   ]
  },
  {
   "cell_type": "code",
   "execution_count": 79,
   "metadata": {},
   "outputs": [],
   "source": [
    "catago = ProductCategory.objects.get(name=\"Books and Media\")\n",
    "catago.name = 'Books'\n",
    "catago.save()"
   ]
  },
  {
   "cell_type": "markdown",
   "metadata": {},
   "source": [
    "2.4 ลบสินค้าทุกตัวที่อยู่ในหมวดหมู่ `Books` (0.5 คะแนน)"
   ]
  },
  {
   "cell_type": "code",
   "execution_count": 80,
   "metadata": {},
   "outputs": [
    {
     "data": {
      "text/plain": [
       "(6, {'shop.Product_categories': 3, 'shop.Product': 3})"
      ]
     },
     "execution_count": 80,
     "metadata": {},
     "output_type": "execute_result"
    }
   ],
   "source": [
    "Product.objects.filter(categories__name=\"Books\").delete()"
   ]
  },
  {
   "cell_type": "code",
   "execution_count": null,
   "metadata": {},
   "outputs": [],
   "source": []
  }
 ],
 "metadata": {
  "kernelspec": {
   "display_name": "Django Shell-Plus",
   "language": "python",
   "name": "django_extensions"
  },
  "language_info": {
   "codemirror_mode": {
    "name": "ipython",
    "version": 3
   },
   "file_extension": ".py",
   "mimetype": "text/x-python",
   "name": "python",
   "nbconvert_exporter": "python",
   "pygments_lexer": "ipython3",
   "version": "3.11.9"
  }
 },
 "nbformat": 4,
 "nbformat_minor": 2
}
