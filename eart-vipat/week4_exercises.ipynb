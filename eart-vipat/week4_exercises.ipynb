{
 "cells": [
  {
   "cell_type": "markdown",
   "metadata": {},
   "source": [
    "# WEEK 4 Exercises - Making Queries\n",
    "\n",
    "![ERD-E-COMMERCE](./WEEK3-ERD(e-commerce).png)\n",
    "\n",
    "**ต่อเนื่องจากแบบฝึกหัดใน Week 3 ให้นักศึกษา run ไฟล์ `shop.sql` เพื่อเป็นการเพิ่มข้อมูลลงใน database**\n",
    "\n",
    "**Hint:** สามารถใช้ project และ database ที่ได้ทำไว้ใน Week 3 ได้เลยครับ"
   ]
  },
  {
   "cell_type": "markdown",
   "metadata": {},
   "source": [
    "ให้นักศึกษาสร้างโปรเจคใหม่ใหม่ชื่อ `myshop`\n",
    "\n",
    "จากนั้นให้ทำการ startapp ใหม่ชื่อ `shop`\n",
    "\n",
    "ให้นักศึกษาทำการเพิ่ม model นี้ในไฟล์ shop/models.py"
   ]
  },
  {
   "cell_type": "code",
   "execution_count": 1,
   "metadata": {},
   "outputs": [
    {
     "ename": "ImproperlyConfigured",
     "evalue": "Requested setting INSTALLED_APPS, but settings are not configured. You must either define the environment variable DJANGO_SETTINGS_MODULE or call settings.configure() before accessing settings.",
     "output_type": "error",
     "traceback": [
      "\u001b[1;31m---------------------------------------------------------------------------\u001b[0m",
      "\u001b[1;31mImproperlyConfigured\u001b[0m                      Traceback (most recent call last)",
      "Cell \u001b[1;32mIn[1], line 6\u001b[0m\n\u001b[0;32m      1\u001b[0m \u001b[38;5;28;01mfrom\u001b[39;00m \u001b[38;5;21;01mdjango\u001b[39;00m\u001b[38;5;21;01m.\u001b[39;00m\u001b[38;5;21;01mdb\u001b[39;00m \u001b[38;5;28;01mimport\u001b[39;00m models\n\u001b[0;32m      3\u001b[0m \u001b[38;5;66;03m# Create your models here.\u001b[39;00m\n\u001b[1;32m----> 6\u001b[0m \u001b[38;5;28;43;01mclass\u001b[39;49;00m\u001b[43m \u001b[49m\u001b[38;5;21;43;01mCustomer\u001b[39;49;00m\u001b[43m(\u001b[49m\u001b[43mmodels\u001b[49m\u001b[38;5;241;43m.\u001b[39;49m\u001b[43mModel\u001b[49m\u001b[43m)\u001b[49m\u001b[43m:\u001b[49m\n\u001b[0;32m      7\u001b[0m \u001b[43m    \u001b[49m\u001b[43mfirst_name\u001b[49m\u001b[43m \u001b[49m\u001b[38;5;241;43m=\u001b[39;49m\u001b[43m \u001b[49m\u001b[43mmodels\u001b[49m\u001b[38;5;241;43m.\u001b[39;49m\u001b[43mCharField\u001b[49m\u001b[43m(\u001b[49m\u001b[43mmax_length\u001b[49m\u001b[38;5;241;43m=\u001b[39;49m\u001b[38;5;241;43m150\u001b[39;49m\u001b[43m)\u001b[49m\n\u001b[0;32m      8\u001b[0m \u001b[43m    \u001b[49m\u001b[43mlast_name\u001b[49m\u001b[43m \u001b[49m\u001b[38;5;241;43m=\u001b[39;49m\u001b[43m \u001b[49m\u001b[43mmodels\u001b[49m\u001b[38;5;241;43m.\u001b[39;49m\u001b[43mCharField\u001b[49m\u001b[43m(\u001b[49m\u001b[43mmax_length\u001b[49m\u001b[38;5;241;43m=\u001b[39;49m\u001b[38;5;241;43m200\u001b[39;49m\u001b[43m)\u001b[49m\n",
      "File \u001b[1;32mc:\\Users\\HP\\OneDrive\\Desktop\\KMITL\\ปี 3 เทอม 1\\Server-Side\\labs\\4\\myvenv\\Lib\\site-packages\\django\\db\\models\\base.py:129\u001b[0m, in \u001b[0;36mModelBase.__new__\u001b[1;34m(cls, name, bases, attrs, **kwargs)\u001b[0m\n\u001b[0;32m    126\u001b[0m app_label \u001b[38;5;241m=\u001b[39m \u001b[38;5;28;01mNone\u001b[39;00m\n\u001b[0;32m    128\u001b[0m \u001b[38;5;66;03m# Look for an application configuration to attach the model to.\u001b[39;00m\n\u001b[1;32m--> 129\u001b[0m app_config \u001b[38;5;241m=\u001b[39m \u001b[43mapps\u001b[49m\u001b[38;5;241;43m.\u001b[39;49m\u001b[43mget_containing_app_config\u001b[49m\u001b[43m(\u001b[49m\u001b[43mmodule\u001b[49m\u001b[43m)\u001b[49m\n\u001b[0;32m    131\u001b[0m \u001b[38;5;28;01mif\u001b[39;00m \u001b[38;5;28mgetattr\u001b[39m(meta, \u001b[38;5;124m\"\u001b[39m\u001b[38;5;124mapp_label\u001b[39m\u001b[38;5;124m\"\u001b[39m, \u001b[38;5;28;01mNone\u001b[39;00m) \u001b[38;5;129;01mis\u001b[39;00m \u001b[38;5;28;01mNone\u001b[39;00m:\n\u001b[0;32m    132\u001b[0m     \u001b[38;5;28;01mif\u001b[39;00m app_config \u001b[38;5;129;01mis\u001b[39;00m \u001b[38;5;28;01mNone\u001b[39;00m:\n",
      "File \u001b[1;32mc:\\Users\\HP\\OneDrive\\Desktop\\KMITL\\ปี 3 เทอม 1\\Server-Side\\labs\\4\\myvenv\\Lib\\site-packages\\django\\apps\\registry.py:260\u001b[0m, in \u001b[0;36mApps.get_containing_app_config\u001b[1;34m(self, object_name)\u001b[0m\n\u001b[0;32m    251\u001b[0m \u001b[38;5;28;01mdef\u001b[39;00m \u001b[38;5;21mget_containing_app_config\u001b[39m(\u001b[38;5;28mself\u001b[39m, object_name):\n\u001b[0;32m    252\u001b[0m \u001b[38;5;250m    \u001b[39m\u001b[38;5;124;03m\"\"\"\u001b[39;00m\n\u001b[0;32m    253\u001b[0m \u001b[38;5;124;03m    Look for an app config containing a given object.\u001b[39;00m\n\u001b[0;32m    254\u001b[0m \n\u001b[1;32m   (...)\u001b[0m\n\u001b[0;32m    258\u001b[0m \u001b[38;5;124;03m    Return None if the object isn't in any registered app config.\u001b[39;00m\n\u001b[0;32m    259\u001b[0m \u001b[38;5;124;03m    \"\"\"\u001b[39;00m\n\u001b[1;32m--> 260\u001b[0m     \u001b[38;5;28;43mself\u001b[39;49m\u001b[38;5;241;43m.\u001b[39;49m\u001b[43mcheck_apps_ready\u001b[49m\u001b[43m(\u001b[49m\u001b[43m)\u001b[49m\n\u001b[0;32m    261\u001b[0m     candidates \u001b[38;5;241m=\u001b[39m []\n\u001b[0;32m    262\u001b[0m     \u001b[38;5;28;01mfor\u001b[39;00m app_config \u001b[38;5;129;01min\u001b[39;00m \u001b[38;5;28mself\u001b[39m\u001b[38;5;241m.\u001b[39mapp_configs\u001b[38;5;241m.\u001b[39mvalues():\n",
      "File \u001b[1;32mc:\\Users\\HP\\OneDrive\\Desktop\\KMITL\\ปี 3 เทอม 1\\Server-Side\\labs\\4\\myvenv\\Lib\\site-packages\\django\\apps\\registry.py:137\u001b[0m, in \u001b[0;36mApps.check_apps_ready\u001b[1;34m(self)\u001b[0m\n\u001b[0;32m    132\u001b[0m \u001b[38;5;28;01mfrom\u001b[39;00m \u001b[38;5;21;01mdjango\u001b[39;00m\u001b[38;5;21;01m.\u001b[39;00m\u001b[38;5;21;01mconf\u001b[39;00m \u001b[38;5;28;01mimport\u001b[39;00m settings\n\u001b[0;32m    134\u001b[0m \u001b[38;5;66;03m# If \"not ready\" is due to unconfigured settings, accessing\u001b[39;00m\n\u001b[0;32m    135\u001b[0m \u001b[38;5;66;03m# INSTALLED_APPS raises a more helpful ImproperlyConfigured\u001b[39;00m\n\u001b[0;32m    136\u001b[0m \u001b[38;5;66;03m# exception.\u001b[39;00m\n\u001b[1;32m--> 137\u001b[0m \u001b[43msettings\u001b[49m\u001b[38;5;241;43m.\u001b[39;49m\u001b[43mINSTALLED_APPS\u001b[49m\n\u001b[0;32m    138\u001b[0m \u001b[38;5;28;01mraise\u001b[39;00m AppRegistryNotReady(\u001b[38;5;124m\"\u001b[39m\u001b[38;5;124mApps aren\u001b[39m\u001b[38;5;124m'\u001b[39m\u001b[38;5;124mt loaded yet.\u001b[39m\u001b[38;5;124m\"\u001b[39m)\n",
      "File \u001b[1;32mc:\\Users\\HP\\OneDrive\\Desktop\\KMITL\\ปี 3 เทอม 1\\Server-Side\\labs\\4\\myvenv\\Lib\\site-packages\\django\\conf\\__init__.py:89\u001b[0m, in \u001b[0;36mLazySettings.__getattr__\u001b[1;34m(self, name)\u001b[0m\n\u001b[0;32m     87\u001b[0m \u001b[38;5;250m\u001b[39m\u001b[38;5;124;03m\"\"\"Return the value of a setting and cache it in self.__dict__.\"\"\"\u001b[39;00m\n\u001b[0;32m     88\u001b[0m \u001b[38;5;28;01mif\u001b[39;00m (_wrapped \u001b[38;5;241m:=\u001b[39m \u001b[38;5;28mself\u001b[39m\u001b[38;5;241m.\u001b[39m_wrapped) \u001b[38;5;129;01mis\u001b[39;00m empty:\n\u001b[1;32m---> 89\u001b[0m     \u001b[38;5;28;43mself\u001b[39;49m\u001b[38;5;241;43m.\u001b[39;49m\u001b[43m_setup\u001b[49m\u001b[43m(\u001b[49m\u001b[43mname\u001b[49m\u001b[43m)\u001b[49m\n\u001b[0;32m     90\u001b[0m     _wrapped \u001b[38;5;241m=\u001b[39m \u001b[38;5;28mself\u001b[39m\u001b[38;5;241m.\u001b[39m_wrapped\n\u001b[0;32m     91\u001b[0m val \u001b[38;5;241m=\u001b[39m \u001b[38;5;28mgetattr\u001b[39m(_wrapped, name)\n",
      "File \u001b[1;32mc:\\Users\\HP\\OneDrive\\Desktop\\KMITL\\ปี 3 เทอม 1\\Server-Side\\labs\\4\\myvenv\\Lib\\site-packages\\django\\conf\\__init__.py:69\u001b[0m, in \u001b[0;36mLazySettings._setup\u001b[1;34m(self, name)\u001b[0m\n\u001b[0;32m     67\u001b[0m \u001b[38;5;28;01mif\u001b[39;00m \u001b[38;5;129;01mnot\u001b[39;00m settings_module:\n\u001b[0;32m     68\u001b[0m     desc \u001b[38;5;241m=\u001b[39m (\u001b[38;5;124m\"\u001b[39m\u001b[38;5;124msetting \u001b[39m\u001b[38;5;132;01m%s\u001b[39;00m\u001b[38;5;124m\"\u001b[39m \u001b[38;5;241m%\u001b[39m name) \u001b[38;5;28;01mif\u001b[39;00m name \u001b[38;5;28;01melse\u001b[39;00m \u001b[38;5;124m\"\u001b[39m\u001b[38;5;124msettings\u001b[39m\u001b[38;5;124m\"\u001b[39m\n\u001b[1;32m---> 69\u001b[0m     \u001b[38;5;28;01mraise\u001b[39;00m ImproperlyConfigured(\n\u001b[0;32m     70\u001b[0m         \u001b[38;5;124m\"\u001b[39m\u001b[38;5;124mRequested \u001b[39m\u001b[38;5;132;01m%s\u001b[39;00m\u001b[38;5;124m, but settings are not configured. \u001b[39m\u001b[38;5;124m\"\u001b[39m\n\u001b[0;32m     71\u001b[0m         \u001b[38;5;124m\"\u001b[39m\u001b[38;5;124mYou must either define the environment variable \u001b[39m\u001b[38;5;132;01m%s\u001b[39;00m\u001b[38;5;124m \u001b[39m\u001b[38;5;124m\"\u001b[39m\n\u001b[0;32m     72\u001b[0m         \u001b[38;5;124m\"\u001b[39m\u001b[38;5;124mor call settings.configure() before accessing settings.\u001b[39m\u001b[38;5;124m\"\u001b[39m\n\u001b[0;32m     73\u001b[0m         \u001b[38;5;241m%\u001b[39m (desc, ENVIRONMENT_VARIABLE)\n\u001b[0;32m     74\u001b[0m     )\n\u001b[0;32m     76\u001b[0m \u001b[38;5;28mself\u001b[39m\u001b[38;5;241m.\u001b[39m_wrapped \u001b[38;5;241m=\u001b[39m Settings(settings_module)\n",
      "\u001b[1;31mImproperlyConfigured\u001b[0m: Requested setting INSTALLED_APPS, but settings are not configured. You must either define the environment variable DJANGO_SETTINGS_MODULE or call settings.configure() before accessing settings."
     ]
    }
   ],
   "source": [
    "from django.db import models\n",
    "\n",
    "# Create your models here.\n",
    "\n",
    "\n",
    "class Customer(models.Model):\n",
    "    first_name = models.CharField(max_length=150)\n",
    "    last_name = models.CharField(max_length=200)\n",
    "    email = models.CharField(max_length=150)\n",
    "    address = models.JSONField(null=True)\n",
    "\n",
    "class ProductCategory(models.Model):\n",
    "    name = models.CharField(max_length=150)\n",
    "\n",
    "class Product(models.Model):\n",
    "    name = models.CharField(max_length=150)\n",
    "    description = models.TextField(null=True, blank=True)\n",
    "    remaining_amount = models.PositiveIntegerField(default=0)\n",
    "    price = models.DecimalField(max_digits=10, decimal_places=2)\n",
    "    categories = models.ManyToManyField(ProductCategory)\n",
    "\n",
    "class Cart(models.Model):\n",
    "    customer = models.ForeignKey(Customer, on_delete=models.CASCADE)\n",
    "    create_date = models.DateTimeField()\n",
    "    expired_in = models.PositiveIntegerField(default=60)\n",
    "    \n",
    "class CartItem(models.Model):\n",
    "    cart = models.ForeignKey(Cart, on_delete=models.CASCADE)\n",
    "    product = models.ForeignKey(Product, on_delete=models.CASCADE)\n",
    "    amount = models.PositiveIntegerField(default=1)\n",
    "    \n",
    "class Order(models.Model):\n",
    "    customer = models.ForeignKey(Customer, on_delete=models.CASCADE)\n",
    "    order_date = models.DateField()\n",
    "    remark = models.TextField(null=True, blank=True)\n",
    "\n",
    "class OrderItem(models.Model):\n",
    "    order = models.ForeignKey(Order, on_delete=models.CASCADE)\n",
    "    product = models.ForeignKey(Product, on_delete=models.CASCADE)\n",
    "    amount = models.PositiveIntegerField(default=1)\n",
    "    \n",
    "class Payment(models.Model):\n",
    "    order = models.OneToOneField(Order, on_delete=models.PROTECT)\n",
    "    payment_date = models.DateField()\n",
    "    remark = models.TextField(null=True, blank=True)\n",
    "    price = models.DecimalField(max_digits=10, decimal_places=2)\n",
    "    discount = models.DecimalField(max_digits=10, decimal_places=2, default=0)\n",
    "\n",
    "class PaymentItem(models.Model):\n",
    "    payment = models.ForeignKey(Payment, on_delete=models.CASCADE)\n",
    "    order_item = models.OneToOneField(OrderItem, on_delete=models.CASCADE)\n",
    "    price = models.DecimalField(max_digits=10, decimal_places=2)\n",
    "    discount = models.DecimalField(max_digits=10, decimal_places=2, default=0)\n",
    "    \n",
    "class PaymentMethod(models.Model):\n",
    "    class MethodChoices(models.Choices):\n",
    "        QR = \"QR\"\n",
    "        CREDIT = \"CREDIT\"\n",
    "    \n",
    "    payment = models.ForeignKey(Payment, on_delete=models.CASCADE)\n",
    "    method = models.CharField(max_length=15, choices=MethodChoices.choices)\n",
    "    price = models.DecimalField(max_digits=10, decimal_places=2)"
   ]
  },
  {
   "cell_type": "markdown",
   "metadata": {},
   "source": [
    "จากนั้นให้ทำการ migrate และ run คำสั่งในไฟล์ shop.sql"
   ]
  },
  {
   "cell_type": "code",
   "execution_count": 1,
   "metadata": {},
   "outputs": [],
   "source": [
    "# ตั้ง env ให้ใช้กับ project django\n",
    "import os\n",
    "import django\n",
    "os.environ[\"DJANGO_ALLOW_ASYNC_UNSAFE\"] = \"true\"\n",
    "os.environ['DJANGO_SETTINGS_MODULE'] = 'myshop.settings'  \n",
    "django.setup()\n"
   ]
  },
  {
   "cell_type": "markdown",
   "metadata": {},
   "source": [
    "### 1. ให้นักศึกษา Query ค้นหาข้อมูลมาแสดงให้ถูกต้องตามโจทย์\n",
    "\n",
    "1.1 query หาข้อมูล `Order` ทั้งหมดที่เกิดขึ้นในเดือน `พฤษภาคม` และ`ราคา`ของ Order มาแสดงผล 10 รายการแรก และแสดงผลดังตัวอย่าง (0.5 คะแนน)\n",
    "\n",
    "```txt\n",
    "ORDER ID:22, DATE: 2024-05-01, PRICE: 4890.00\n",
    "ORDER ID:23, DATE: 2024-05-01, PRICE: 2540.00\n",
    "ORDER ID:24, DATE: 2024-05-01, PRICE: 1720.00\n",
    "ORDER ID:25, DATE: 2024-05-02, PRICE: 322499.00\n",
    "ORDER ID:26, DATE: 2024-05-02, PRICE: 3399.00\n",
    "ORDER ID:27, DATE: 2024-05-02, PRICE: 1190.00\n",
    "ORDER ID:28, DATE: 2024-05-03, PRICE: 9499.00\n",
    "ORDER ID:29, DATE: 2024-05-03, PRICE: 700.00\n",
    "ORDER ID:30, DATE: 2024-05-03, PRICE: 1690.00\n",
    "ORDER ID:31, DATE: 2024-05-04, PRICE: 3280.00\n",
    "```"
   ]
  },
  {
   "cell_type": "code",
   "execution_count": 2,
   "metadata": {},
   "outputs": [
    {
     "name": "stdout",
     "output_type": "stream",
     "text": [
      "ORDER ID: 22, DATE: 2024-05-01 ,PRICE: 4890.00\n",
      "ORDER ID: 23, DATE: 2024-05-01 ,PRICE: 2540.00\n",
      "ORDER ID: 24, DATE: 2024-05-01 ,PRICE: 1720.00\n",
      "ORDER ID: 25, DATE: 2024-05-02 ,PRICE: 322499.00\n",
      "ORDER ID: 26, DATE: 2024-05-02 ,PRICE: 3399.00\n",
      "ORDER ID: 27, DATE: 2024-05-02 ,PRICE: 1190.00\n",
      "ORDER ID: 28, DATE: 2024-05-03 ,PRICE: 9499.00\n",
      "ORDER ID: 29, DATE: 2024-05-03 ,PRICE: 700.00\n",
      "ORDER ID: 30, DATE: 2024-05-03 ,PRICE: 1690.00\n",
      "ORDER ID: 31, DATE: 2024-05-04 ,PRICE: 3280.00\n"
     ]
    }
   ],
   "source": [
    "#วิธี 1\n",
    "\n",
    "# Django ORM = Object Relational Mapping คือเขียน class/object ของไพธอนในการติดต่อฐานข้อมูล\n",
    "from shop.models import PaymentMethod, Payment, PaymentItem, OrderItem, Order, Cart, CartItem, ProductCategory, Product, Customer\n",
    "\n",
    "# [:10] คือ LIMIT 10 (__ underscore 2 ครั้ง = การใช้คำสั่งของ django ได้)\n",
    "order_in_may = Order.objects.filter(order_date__month=5)[:10]\n",
    "\n",
    "# print(order_in_may.query) ดู query\n",
    "\n",
    "# select_related คือ INNER JOIN (สำหรับความสัมพันธ์แบบ 1-1 กับ 1-M)\n",
    "# 1-1 fliter จากฝั่งไหนก็ได้\n",
    "orders_with_payment = Payment.objects.filter(order__in=order_in_may).select_related('order')\n",
    "\n",
    "# เพิ่มเติม prefetch_related() คือ INNER JOIN (สำหรับความสัมพันธ์แบบ M-M)\n",
    "# print(orders_with_payment.query) ดู query\n",
    "\n",
    "# ใช้ loop เพื่อ print Object ออกมา\n",
    "for payment in orders_with_payment:\n",
    "    print(f\"ORDER ID: {payment.order.id}, DATE: {payment.order.order_date} ,PRICE: {payment.price}\")\n"
   ]
  },
  {
   "cell_type": "code",
   "execution_count": null,
   "metadata": {},
   "outputs": [],
   "source": [
    "# Simple \n",
    "order_may = Order.objects.filter(order_date__month = 5)[:10]\n",
    "\n",
    "for order in order_may:\n",
    "    print(f\"ORDER ID:{order.id}, DATE: {order.order_date}, PRICE: {order.payment.price} \")"
   ]
  },
  {
   "cell_type": "code",
   "execution_count": 17,
   "metadata": {},
   "outputs": [
    {
     "name": "stdout",
     "output_type": "stream",
     "text": [
      "ORDER ID: 22, DATE: 2024-05-01 ,PRICE: 4890.00\n",
      "ORDER ID: 23, DATE: 2024-05-01 ,PRICE: 2540.00\n",
      "ORDER ID: 24, DATE: 2024-05-01 ,PRICE: 1720.00\n",
      "ORDER ID: 25, DATE: 2024-05-02 ,PRICE: 322499.00\n",
      "ORDER ID: 26, DATE: 2024-05-02 ,PRICE: 3399.00\n",
      "ORDER ID: 27, DATE: 2024-05-02 ,PRICE: 1190.00\n",
      "ORDER ID: 28, DATE: 2024-05-03 ,PRICE: 9499.00\n",
      "ORDER ID: 29, DATE: 2024-05-03 ,PRICE: 700.00\n",
      "ORDER ID: 30, DATE: 2024-05-03 ,PRICE: 1690.00\n",
      "ORDER ID: 31, DATE: 2024-05-04 ,PRICE: 3280.00\n"
     ]
    }
   ],
   "source": [
    "#วิธี 2\n",
    "\n",
    "# Django ORM = Object Relational Mapping คือเขียน class/object ของไพธอนในการติดต่อฐานข้อมูล\n",
    "from shop.models import PaymentMethod, Payment, PaymentItem, OrderItem, Order, Cart, CartItem, ProductCategory, Product, Customer\n",
    "\n",
    "# [:10] คือ LIMIT 10 (__ underscore 2 ครั้ง = การใช้คำสั่งของ django ได้)\n",
    "order_in_may = Order.objects.filter(order_date__month=5)[:10]\n",
    "\n",
    "# print(order_in_may.query) ดู query\n",
    "\n",
    "# ใช้ loop เพื่อ print Object ออกมา\n",
    "for payment in orders_with_payment:\n",
    "    #ใช้ loop เพื่อเอาออกมาให้เพราะ model มีการเชื่อมการอยู่แล้ว\n",
    "    print(f\"ORDER ID: {payment.order.id}, DATE: {payment.order.order_date} ,PRICE: {payment.price}\")"
   ]
  },
  {
   "cell_type": "markdown",
   "metadata": {},
   "source": [
    "1.2 query หาข้อมูล `Product` ที่มีคำลงท้ายว่า `features.` ในรายละเอียดสินค้า และแสดงผลดังตัวอย่าง (0.5 คะแนน)\n",
    "\n",
    "```txt\n",
    "PRODUCT ID: 1, DESCRIPTION: A sleek and powerful smartphone with advanced features.\n",
    "PRODUCT ID: 7, DESCRIPTION: High-resolution digital camera with advanced photography features.\n",
    "PRODUCT ID: 10, DESCRIPTION: A stylish smartwatch with health monitoring and notification features.\n",
    "PRODUCT ID: 14, DESCRIPTION: Split air conditioner with remote control and energy-saving features.\n",
    "PRODUCT ID: 45, DESCRIPTION: Customizable racing track set with loop and jump features.\n",
    "```"
   ]
  },
  {
   "cell_type": "code",
   "execution_count": 21,
   "metadata": {},
   "outputs": [
    {
     "name": "stdout",
     "output_type": "stream",
     "text": [
      "PRODUCT ID: 69, DESCRIPTION: Display Screen. 16.0\n",
      "PRODUCT ID: 67, DESCRIPTION: By J. K. Rowling.\n",
      "PRODUCT ID: 2, DESCRIPTION: A lightweight and high-performance laptop for professionals.\n",
      "PRODUCT ID: 3, DESCRIPTION: An ultra-HD smart television with streaming capabilities.\n",
      "PRODUCT ID: 4, DESCRIPTION: Wireless earphones with noise-canceling technology.\n",
      "PRODUCT ID: 5, DESCRIPTION: A compact tablet for entertainment and productivity.\n",
      "PRODUCT ID: 6, DESCRIPTION: A powerful gaming console with immersive graphics.\n",
      "PRODUCT ID: 8, DESCRIPTION: High-speed wireless router for home or office use.\n",
      "PRODUCT ID: 9, DESCRIPTION: Compact and portable power bank for charging devices on the go.\n",
      "PRODUCT ID: 11, DESCRIPTION: Energy-efficient refrigerator with ample storage space.\n",
      "PRODUCT ID: 12, DESCRIPTION: Front-loading washing machine with multiple wash programs.\n",
      "PRODUCT ID: 13, DESCRIPTION: Compact microwave oven with defrost and cooking functions.\n",
      "PRODUCT ID: 15, DESCRIPTION: Powerful vacuum cleaner for efficient cleaning.\n",
      "PRODUCT ID: 16, DESCRIPTION: Fast-boiling electric kettle with auto shut-off feature.\n",
      "PRODUCT ID: 17, DESCRIPTION: Four-slice toaster with adjustable browning settings.\n",
      "PRODUCT ID: 18, DESCRIPTION: Oscillating electric fan for cooling rooms.\n",
      "PRODUCT ID: 19, DESCRIPTION: Automatic rice cooker with keep-warm function.\n",
      "PRODUCT ID: 20, DESCRIPTION: Steam iron with non-stick soleplate for wrinkle-free clothes.\n",
      "PRODUCT ID: 21, DESCRIPTION: Comfortable cotton t-shirt for everyday wear.\n",
      "PRODUCT ID: 22, DESCRIPTION: Slim-fit jeans made from stretch denim.\n",
      "PRODUCT ID: 23, DESCRIPTION: Warm and cozy hoodie with front pocket.\n",
      "PRODUCT ID: 24, DESCRIPTION: Elegant knee-length dress for special occasions.\n",
      "PRODUCT ID: 25, DESCRIPTION: Classic button-down shirt suitable for formal wear.\n",
      "PRODUCT ID: 26, DESCRIPTION: Breathable shorts for workouts and sports.\n",
      "PRODUCT ID: 27, DESCRIPTION: Collared polo shirt with moisture-wicking fabric.\n",
      "PRODUCT ID: 28, DESCRIPTION: Soft and cozy sweater for chilly weather.\n",
      "PRODUCT ID: 29, DESCRIPTION: Adjustable baseball cap for casual outings.\n",
      "PRODUCT ID: 30, DESCRIPTION: Casual shorts with multiple pockets.\n",
      "PRODUCT ID: 31, DESCRIPTION: Comfortable three-seater sofa with fabric upholstery.\n",
      "PRODUCT ID: 32, DESCRIPTION: Solid wood dining table with extendable leaf.\n",
      "PRODUCT ID: 33, DESCRIPTION: Queen-size bed frame with storage drawers.\n",
      "PRODUCT ID: 34, DESCRIPTION: Large wardrobe with sliding doors and ample storage space.\n",
      "PRODUCT ID: 35, DESCRIPTION: Modern coffee table with glass top and wooden legs.\n",
      "PRODUCT ID: 36, DESCRIPTION: Tall bookshelf with adjustable shelves.\n",
      "PRODUCT ID: 37, DESCRIPTION: Ergonomic desk chair with lumbar support.\n",
      "PRODUCT ID: 38, DESCRIPTION: Entertainment center with shelves and cabinets.\n",
      "PRODUCT ID: 39, DESCRIPTION: Bedside table with drawers for storage.\n",
      "PRODUCT ID: 40, DESCRIPTION: Adjustable bar stool with swivel seat.\n",
      "PRODUCT ID: 41, DESCRIPTION: Set of 790 colorful LEGO bricks for creative building.\n",
      "PRODUCT ID: 42, DESCRIPTION: Rotating barrel blaster with slam-fire action.\n",
      "PRODUCT ID: 43, DESCRIPTION: Three-story Barbie dollhouse with furniture and accessories.\n",
      "PRODUCT ID: 44, DESCRIPTION: Classic board game of buying, trading, and strategy.\n",
      "PRODUCT ID: 46, DESCRIPTION: Interactive chair with songs, phrases, and learning activities.\n",
      "PRODUCT ID: 47, DESCRIPTION: Classic block-stacking game for parties and gatherings.\n",
      "PRODUCT ID: 48, DESCRIPTION: Play-Doh extruder set for creating fun shapes and designs.\n",
      "PRODUCT ID: 49, DESCRIPTION: Musical toy with lights and 7 classical melodies.\n",
      "PRODUCT ID: 50, DESCRIPTION: Paw Patrol fire truck toy with extendable ladder and lights.\n",
      "PRODUCT ID: 51, DESCRIPTION: Soft and cozy bed for medium-sized dogs.\n",
      "PRODUCT ID: 52, DESCRIPTION: Multi-level cat tree with scratching posts and perches.\n",
      "PRODUCT ID: 53, DESCRIPTION: Stainless steel bowls with non-skid base for cats and small dogs.\n",
      "PRODUCT ID: 54, DESCRIPTION: Programmable feeder for cats and dogs with portion control.\n",
      "PRODUCT ID: 55, DESCRIPTION: Adjustable harness and leash set for medium-sized dogs.\n",
      "PRODUCT ID: 56, DESCRIPTION: Large litter box with hood and carbon filter.\n",
      "PRODUCT ID: 57, DESCRIPTION: Set of grooming tools for cats and small dogs.\n",
      "PRODUCT ID: 58, DESCRIPTION: Complete starter kit for freshwater fish aquariums.\n",
      "PRODUCT ID: 59, DESCRIPTION: Spacious cage suitable for small to medium-sized birds.\n",
      "PRODUCT ID: 60, DESCRIPTION: Portable playpen for rabbits, guinea pigs, and other small pets.\n",
      "PRODUCT ID: 61, DESCRIPTION: Classic round-cut diamond earrings in 14k white gold.\n",
      "PRODUCT ID: 62, DESCRIPTION: Sterling silver bracelet with various charms.\n",
      "PRODUCT ID: 63, DESCRIPTION: 14k yellow gold pendant necklace with chain.\n",
      "PRODUCT ID: 64, DESCRIPTION: Emerald-cut amethyst ring in sterling silver.\n",
      "PRODUCT ID: 65, DESCRIPTION: Small hoop earrings in 14k rose gold.\n"
     ]
    }
   ],
   "source": [
    "# Django ORM = Object Relational Mapping คือเขียน class/object ของไพธอนในการติดต่อฐานข้อมูล\n",
    "from shop.models import PaymentMethod, Payment, PaymentItem, OrderItem, Order, Cart, CartItem, ProductCategory, Product, Customer\n",
    "\n",
    "\n",
    "# endswith = LIKE %features. startswith = LIKE %features.\n",
    "products = Product.objects.filter(description__endswith='features.')\n",
    "\n",
    "# print(products.query)  ดู query\n",
    "\n",
    "for product in products:\n",
    "    print(f\"PRODUCT ID: {product.id}, DESCRIPTION: {product.description}\")"
   ]
  },
  {
   "cell_type": "markdown",
   "metadata": {},
   "source": [
    "1.3 query หาข้อมูล `Product` ที่มีราคาสินค้าตั้งแต่ `5000.00` ขึ้นไป และแสดงผลดังตัวอย่าง (0.5 คะแนน)\n",
    "\n",
    "```txt\n",
    "PRODUCT ID: 1, NAME: Smartphone, PRICE: 5900.00\n",
    "PRODUCT ID: 2, NAME: Laptop, PRICE: 25999.00\n",
    "PRODUCT ID: 3, NAME: Smart TV, PRICE: 8900.00\n",
    "PRODUCT ID: 5, NAME: Tablet, PRICE: 12900.00\n",
    "PRODUCT ID: 6, NAME: Gaming Console, PRICE: 5000.00\n",
    "PRODUCT ID: 7, NAME: Digital Camera, PRICE: 32000.00\n",
    "PRODUCT ID: 11, NAME: Refrigerator, PRICE: 9000.00\n",
    "PRODUCT ID: 14, NAME: Air Conditioner, PRICE: 18900.00\n",
    "PRODUCT ID: 31, NAME: Sofa, PRICE: 7000.00\n",
    "PRODUCT ID: 54, NAME: Automatic Pet Feeder, PRICE: 7900.00\n",
    "PRODUCT ID: 61, NAME: Diamond Stud Earrings, PRICE: 320000.00\n",
    "PRODUCT ID: 62, NAME: Silver Charm Bracelet, PRICE: 70000.00\n",
    "PRODUCT ID: 63, NAME: Gold Pendant Necklace, PRICE: 59000.00\n",
    "PRODUCT ID: 64, NAME: Gemstone Ring, PRICE: 9000.00\n",
    "PRODUCT ID: 65, NAME: Rose Gold Hoop Earrings, PRICE: 1200000.00\n",
    "```"
   ]
  },
  {
   "cell_type": "code",
   "execution_count": null,
   "metadata": {},
   "outputs": [],
   "source": [
    "# 1.3 query หาข้อมูล Product ที่มีราคาสินค้าตั้งแต่ 5000.00 ขึ้นไป และอยู่ในหมวดหมู่ Information Technology และแสดงผลดังตัวอย่าง (0.5 คะแนน)\n",
    "\n",
    "# ตัวอย่างบางส่วน \n",
    "# PRODUCT ID: 1, NAME: Smartphone, PRICE: 5900.00\n",
    "\n",
    "#  categories__name คือ การไปยัง field name ของตาราง productcatagory (เชื่อมไปที่ตาราง productcatagory แล้ว)\n",
    "products = Product.objects.filter(Q(price__gt = 5000), Q(categories__name = \"Information Technology\" ) )\n",
    "for product in products:\n",
    "    print(f\"PRODUCT ID: {product.id}, NAME: {product.name}, PRICE: {product.price}\")"
   ]
  },
  {
   "cell_type": "code",
   "execution_count": 23,
   "metadata": {},
   "outputs": [
    {
     "name": "stdout",
     "output_type": "stream",
     "text": [
      "PRODUCT ID: 69, NAME: Notebook HP Pavilion Silver, PRICE: 20000.00\n",
      "PRODUCT ID: 1, NAME: Smartphone, PRICE: 5900.00\n",
      "PRODUCT ID: 2, NAME: Laptop, PRICE: 25999.00\n",
      "PRODUCT ID: 3, NAME: Smart TV, PRICE: 8900.00\n",
      "PRODUCT ID: 5, NAME: Tablet, PRICE: 12900.00\n",
      "PRODUCT ID: 6, NAME: Gaming Console, PRICE: 5000.00\n",
      "PRODUCT ID: 7, NAME: Digital Camera, PRICE: 32000.00\n",
      "PRODUCT ID: 11, NAME: Refrigerator, PRICE: 9000.00\n",
      "PRODUCT ID: 14, NAME: Air Conditioner, PRICE: 18900.00\n",
      "PRODUCT ID: 31, NAME: Sofa, PRICE: 7000.00\n",
      "PRODUCT ID: 54, NAME: Automatic Pet Feeder, PRICE: 7900.00\n",
      "PRODUCT ID: 61, NAME: Diamond Stud Earrings, PRICE: 320000.00\n",
      "PRODUCT ID: 62, NAME: Silver Charm Bracelet, PRICE: 70000.00\n",
      "PRODUCT ID: 63, NAME: Gold Pendant Necklace, PRICE: 59000.00\n",
      "PRODUCT ID: 64, NAME: Gemstone Ring, PRICE: 9000.00\n",
      "PRODUCT ID: 65, NAME: Rose Gold Hoop Earrings, PRICE: 1200000.00\n"
     ]
    }
   ],
   "source": [
    "# Django ORM = Object Relational Mapping คือเขียน class/object ของไพธอนในการติดต่อฐานข้อมูล\n",
    "from shop.models import PaymentMethod, Payment, PaymentItem, OrderItem, Order, Cart, CartItem, ProductCategory, Product, Customer\n",
    "\n",
    "#  __lte -> Less than or equal\n",
    "# __gte -> Greater than or equal\n",
    "# __lt -> Less than\n",
    "#__gt -> Greater than\n",
    "products = Product.objects.filter(price__gte=5000)\n",
    "\n",
    "for product in products:\n",
    "    print(f\"PRODUCT ID: {product.id}, NAME: {product.name}, PRICE: {product.price}\")\n",
    "\n"
   ]
  },
  {
   "cell_type": "markdown",
   "metadata": {},
   "source": [
    "1.4 query หาข้อมูล `Product` ที่มีราคาสินค้าน้อยกว่า `200.00` และมากกว่า `100.00` และแสดงผลดังตัวอย่าง (0.5 คะแนน)\n",
    "\n",
    "```txt\n",
    "PRODUCT ID: 28, NAME: Women's Sweater, PRICE: 190.00\n",
    "```"
   ]
  },
  {
   "cell_type": "code",
   "execution_count": 24,
   "metadata": {},
   "outputs": [
    {
     "name": "stdout",
     "output_type": "stream",
     "text": [
      "PRODUCT ID: 21, NAME: Men's T-Shirt, PRICE: 200.00\n",
      "PRODUCT ID: 28, NAME: Women's Sweater, PRICE: 190.00\n",
      "PRODUCT ID: 29, NAME: Unisex Cap, PRICE: 200.00\n",
      "PRODUCT ID: 49, NAME: Baby Einstein Take Along Tunes Musical Toy, PRICE: 200.00\n"
     ]
    }
   ],
   "source": [
    "# Django ORM = Object Relational Mapping คือเขียน class/object ของไพธอนในการติดต่อฐานข้อมูล\n",
    "from shop.models import PaymentMethod, Payment, PaymentItem, OrderItem, Order, Cart, CartItem, ProductCategory, Product, Customer\n",
    "from django.db.models import Q\n",
    "\n",
    "# ใช้ Q objects เพื่อ query แบบ logic ได่้ (AND, OR, NOT)\n",
    "products = Product.objects.filter(Q(price__lt=200) & Q(price__gt=100))\n",
    "# products = Product.objects.filter(price__range=(100, 200))\n",
    "\n",
    "for product in products:\n",
    "    print(f\"PRODUCT ID: {product.id}, NAME: {product.name}, PRICE: {product.price}\")"
   ]
  },
  {
   "cell_type": "markdown",
   "metadata": {},
   "source": [
    "### 2. เพิ่ม ลบ แก้ไข สินค้า\n",
    "\n",
    "#### หมวดหมู่สินค้า\n",
    "- Information technology\n",
    "- Electronics\n",
    "- Clothing and Apparel\n",
    "- Home Appliances\n",
    "- Furniture\n",
    "- Toys and Games\n",
    "- Books and Media\n",
    "- Pet Supplies\n",
    "- Jewelry"
   ]
  },
  {
   "cell_type": "code",
   "execution_count": 14,
   "metadata": {},
   "outputs": [
    {
     "name": "stdout",
     "output_type": "stream",
     "text": [
      "หมวดหมู่สินค้า\n",
      " • Information Technology\n",
      " • Electronics\n",
      " • Clothing and Apparel\n",
      " • Home Appliances\n",
      " • Furniture\n",
      " • Toys and Games\n",
      " • Books and Media\n",
      " • Pet Supplies\n",
      " • Jewelry\n"
     ]
    }
   ],
   "source": [
    "# Django ORM = Object Relational Mapping คือเขียน class/object ของไพธอนในการติดต่อฐานข้อมูล\n",
    "from shop.models import PaymentMethod, Payment, PaymentItem, OrderItem, Order, Cart, CartItem, ProductCategory, Product, Customer\n",
    "\n",
    "categories = ProductCategory.objects.all()\n",
    "\n",
    "print(\"หมวดหมู่สินค้า\")\n",
    "for category in categories:\n",
    "    print(f' • {category.name}')"
   ]
  },
  {
   "cell_type": "markdown",
   "metadata": {},
   "source": [
    "2.1 ให้เพิ่มสินค้าใหม่จำนวน 3 รายการ (0.5 คะแนน)\n",
    "\n",
    "```txt\n",
    "สินค้าที่ 1\n",
    "ชื่อ: Philosopher's Stone (1997)\n",
    "หมวดหมู่สินค้า: Books and Media\n",
    "จำนวนคงเหลือ: 20\n",
    "รายละเอียดซ: By J. K. Rowling.\n",
    "ราคา: 790\n",
    "\n",
    "สินค้าที่ 2\n",
    "ชื่อ: Me Before You\n",
    "หมวดหมู่สินค้า: Books and Media\n",
    "จำนวนคงเหลือ: 40\n",
    "รายละเอียดซ: A romance novel written by Jojo\n",
    "ราคา: 390\n",
    "\n",
    "สินค้าที่ 3\n",
    "ชื่อ: Notebook HP Pavilion Silver\n",
    "หมวดหมู่สินค้า: Information technology และ Electronics\n",
    "จำนวนคงเหลือ: 10\n",
    "รายละเอียดซ: Display Screen. 16.0\n",
    "ราคา: 20000\n",
    "```"
   ]
  },
  {
   "cell_type": "code",
   "execution_count": 26,
   "metadata": {},
   "outputs": [],
   "source": [
    "# Django ORM = Object Relational Mapping คือเขียน class/object ของไพธอนในการติดต่อฐานข้อมูล\n",
    "from shop.models import PaymentMethod, Payment, PaymentItem, OrderItem, Order, Cart, CartItem, ProductCategory, Product, Customer\n",
    "\n",
    "# get = การเรียกข้อมูลที่มีอยู่แล้วในฐานข้อมูลมาใช้\n",
    "books_and_media = ProductCategory.objects.get(name='Books and Media')\n",
    "information_technology = ProductCategory.objects.get(name='Information Technology')\n",
    "electronics = ProductCategory.objects.get(name='Electronics')\n",
    "\n",
    "\n",
    "product1 = Product.objects.create(\n",
    "    name=\"Philosopher's Stone (1997)\",\n",
    "    description=\"By J. K. Rowling.\",\n",
    "    price=790,\n",
    "    remaining_amount=20\n",
    ")\n",
    "product1.categories.add(books_and_media)\n",
    "\n",
    "product2 = Product.objects.create(\n",
    "    name=\"Me Before You\",\n",
    "    description=\"A romance novel written by Jojo\",\n",
    "    price=390,\n",
    "    remaining_amount=40\n",
    ")\n",
    "product2.categories.add(books_and_media)\n",
    "\n",
    "product3 = Product.objects.create(\n",
    "    name=\"Notebook HP Pavilion Silver\",\n",
    "    description=\"Display Screen. 16.0\",\n",
    "    price=20000,\n",
    "    remaining_amount=10\n",
    ")\n",
    "product3.categories.add(information_technology, electronics)"
   ]
  },
  {
   "cell_type": "markdown",
   "metadata": {},
   "source": [
    "2.2 แก้ไขชื่อสินค้า จาก `Philosopher's Stone (1997)` เป็น `Half-Blood Prince (2005)` (0.5 คะแนน)"
   ]
  },
  {
   "cell_type": "code",
   "execution_count": 27,
   "metadata": {},
   "outputs": [
    {
     "name": "stdout",
     "output_type": "stream",
     "text": [
      "Half-Blood Prince (2005)\n"
     ]
    }
   ],
   "source": [
    "# Django ORM = Object Relational Mapping คือเขียน class/object ของไพธอนในการติดต่อฐานข้อมูล\n",
    "from shop.models import PaymentMethod, Payment, PaymentItem, OrderItem, Order, Cart, CartItem, ProductCategory, Product, Customer\n",
    "\n",
    "product_get = Product.objects.get(pk=70)\n",
    "product_get.name = \"Half-Blood Prince (2005)\"\n",
    "product_get.save()\n",
    "print(product_get.name)\n"
   ]
  },
  {
   "cell_type": "markdown",
   "metadata": {},
   "source": [
    "2.3 แก้ไขชื่อหมวดหมู่สินค้า จาก `Books and Media` เป็น `Books` (0.5 คะแนน)"
   ]
  },
  {
   "cell_type": "code",
   "execution_count": 29,
   "metadata": {},
   "outputs": [
    {
     "name": "stdout",
     "output_type": "stream",
     "text": [
      "Books and Media\n"
     ]
    }
   ],
   "source": [
    "# Django ORM = Object Relational Mapping คือเขียน class/object ของไพธอนในการติดต่อฐานข้อมูล\n",
    "from shop.models import PaymentMethod, Payment, PaymentItem, OrderItem, Order, Cart, CartItem, ProductCategory, Product, Customer\n",
    "\n",
    "product_catagories_get = ProductCategory.objects.get(pk=7)\n",
    "product_catagories_get.name = \"Books\"\n",
    "product_catagories_get.save()\n",
    "print(product_catagories_get)"
   ]
  },
  {
   "cell_type": "markdown",
   "metadata": {},
   "source": [
    "2.4 ลบสินค้าทุกตัวที่อยู่ในหมวดหมู่ `Books` (0.5 คะแนน)"
   ]
  },
  {
   "cell_type": "code",
   "execution_count": 30,
   "metadata": {},
   "outputs": [],
   "source": [
    "# Django ORM = Object Relational Mapping คือเขียน class/object ของไพธอนในการติดต่อฐานข้อมูล\n",
    "from shop.models import PaymentMethod, Payment, PaymentItem, OrderItem, Order, Cart, CartItem, ProductCategory, Product, Customer\n",
    "\n",
    "# get(name='Books') เพื่อดึงข้อมูลวัตถุหนึ่งที่ตรงกับเงื่อนไขที่ชื่อว่า Books\n",
    "books_category = ProductCategory.objects.get(name='Books')\n",
    "\n",
    "# ลบข้อมูลออกจาก database สามารถทำได้โดยใช้ method delete() แบบลบทีละหลายตัว\n",
    "products_delete = Product.objects.filter(categories=books_category).delete()"
   ]
  },
  {
   "cell_type": "markdown",
   "metadata": {},
   "source": [
    "# เพิ่มเติม\n",
    "\n",
    "- `.get()` when you want to get a single unique object (ใช้กับ pk ดีสุด) คืนค่าเป็น Obj.\n",
    "  \n",
    "- `.fliter()` when you want to get all objects that match your lookup parameters. (เหมือนกับ Where ใน SQl) คืนค่าเป็น Query Set\n",
    "  \n",
    "- `objects.raw()`  manager method can be used to perform raw SQL queries \n",
    "\n",
    "- `exclude()` เป็น QuerySet method ที่ใช้ในการกรองผลลัพธ์ที่ไม่ต้องการออกจาก QuerySet (ตรงข้าม fliter)"
   ]
  }
 ],
 "metadata": {
  "kernelspec": {
   "display_name": "Python 3",
   "language": "python",
   "name": "python3"
  },
  "language_info": {
   "codemirror_mode": {
    "name": "ipython",
    "version": 3
   },
   "file_extension": ".py",
   "mimetype": "text/x-python",
   "name": "python",
   "nbconvert_exporter": "python",
   "pygments_lexer": "ipython3",
   "version": "3.12.0"
  }
 },
 "nbformat": 4,
 "nbformat_minor": 2
}
